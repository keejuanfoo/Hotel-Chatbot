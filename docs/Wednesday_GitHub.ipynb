{
  "cells": [
    {
      "cell_type": "code",
      "execution_count": 3,
      "metadata": {
        "id": "JiiXKN9C3bzG"
      },
      "outputs": [],
      "source": [
        "import numpy as np\n",
        "import pandas as pd\n",
        "\n",
        "df = pd.read_csv('10 Hotels.csv')"
      ]
    },
    {
      "cell_type": "code",
      "execution_count": 4,
      "metadata": {
        "id": "IEY2KbWO2ivd"
      },
      "outputs": [],
      "source": [
        "from langchain_community.document_loaders import DataFrameLoader\n",
        "\n",
        "loader = DataFrameLoader(df, page_content_column=\"Overall_Review\")\n",
        "data = loader.load()"
      ]
    },
    {
      "cell_type": "code",
      "execution_count": 11,
      "metadata": {
        "id": "kSu3eHN02o5p"
      },
      "outputs": [],
      "source": [
        "import os\n",
        "os.environ['OPENAI_API_KEY'] = '' \n",
        "openai.api_key = os.getenv('OPENAI_API_KEY')"
      ]
    },
    {
      "cell_type": "code",
      "execution_count": 13,
      "metadata": {
        "id": "FcksqzaI3IeB"
      },
      "outputs": [],
      "source": [
        "from langchain.embeddings.openai import OpenAIEmbeddings\n",
        "\n",
        "embedding = OpenAIEmbeddings()"
      ]
    },
    {
      "cell_type": "code",
      "execution_count": 14,
      "metadata": {
        "id": "G_WcU-nv3Mu1"
      },
      "outputs": [],
      "source": [
        "from langchain.vectorstores import Chroma\n",
        "\n",
        "vectordb = Chroma.from_documents(\n",
        "    documents=data,\n",
        "    embedding=embedding,\n",
        ")"
      ]
    },
    {
      "cell_type": "code",
      "execution_count": 15,
      "metadata": {
        "id": "XkbBBeyws0WI"
      },
      "outputs": [],
      "source": [
        "def get_model_response(messages,\n",
        "                       model = 'gpt-3.5-turbo',\n",
        "                       temperature = 0,\n",
        "                       max_tokens = 1000):\n",
        "    response = openai.chat.completions.create(\n",
        "        model=model,\n",
        "        messages=messages,\n",
        "        temperature=temperature,\n",
        "        max_tokens=max_tokens,\n",
        "    )\n",
        "\n",
        "    return response.choices[0].message.content"
      ]
    },
    {
      "cell_type": "markdown",
      "metadata": {
        "id": "04mto8gT64xp"
      },
      "source": [
        "Function to break long queries down into separate portions."
      ]
    },
    {
      "cell_type": "code",
      "execution_count": 16,
      "metadata": {
        "id": "DtiS9JQC3NPs"
      },
      "outputs": [],
      "source": [
        "def editPrompt(userQuery):\n",
        "\n",
        "  delimiter = '####'\n",
        "  system_message = \"You're a helpful assistant. Your task is to break down user queries about hotels.\"\n",
        "  user_message = f'''\n",
        "  Below is a user query delimited with {delimiter}.\n",
        "\n",
        "  Then, break down the query into multiple queries if the query is asking about multiple matters.\n",
        "  There is no need to break down queries that are asking about one topic and one hotel only, or if it does not make sense to begin with.\n",
        "\n",
        "  Remove the names of hotels that are not in {hotels_list_str}.\n",
        "\n",
        "  Output is a Python list of strings containing the breakdown of the original query.\n",
        "  If no changes were made, just output the original query as the 0th index.\n",
        "  An example is:\n",
        "  [\"<query 1>\", \"<query 2>\", ...]\n",
        "\n",
        "  User Query:\n",
        "  {delimiter}\n",
        "  {userQuery}\n",
        "  {delimiter}\n",
        "  '''\n",
        "\n",
        "  messages =  [\n",
        "          {'role':'system',\n",
        "          'content': system_message},\n",
        "          {'role':'user',\n",
        "          'content': f\"{user_message}\"},\n",
        "  ]\n",
        "\n",
        "  topics_class_response = get_model_response(messages,\n",
        "                    model = 'gpt-3.5-turbo',\n",
        "                    temperature = 0,\n",
        "                    max_tokens = 1000)\n",
        "\n",
        "  return topics_class_response"
      ]
    },
    {
      "cell_type": "markdown",
      "metadata": {
        "id": "ccooK7XW6dOQ"
      },
      "source": [
        "Function to convert string output to a Python list."
      ]
    },
    {
      "cell_type": "code",
      "execution_count": 17,
      "metadata": {
        "id": "Awi1wMeJtYTH"
      },
      "outputs": [],
      "source": [
        "import json\n",
        "\n",
        "def convertJSONToList(input_string):\n",
        "\n",
        "  # Convert the string to a Python list\n",
        "  return json.loads(input_string)"
      ]
    },
    {
      "cell_type": "markdown",
      "metadata": {
        "id": "UU_uYdU96iDV"
      },
      "source": [
        "Function to extract the relevant hotel to the query."
      ]
    },
    {
      "cell_type": "code",
      "execution_count": 18,
      "metadata": {
        "id": "THqQ8ULt3yy9"
      },
      "outputs": [],
      "source": [
        "hotels_list_str = df['Hotel_Name'].unique().tolist()"
      ]
    },
    {
      "cell_type": "code",
      "execution_count": 19,
      "metadata": {
        "id": "Br2c69yI4SPv"
      },
      "outputs": [],
      "source": [
        "def getHotel(userQuery):\n",
        "\n",
        "  delimiter = '####'\n",
        "  system_message = \"You're a helpful assistant. Your task is to analyse user queries.\"\n",
        "  user_message = f'''\n",
        "  Below is a user query delimited with {delimiter}.\n",
        "  Please, identify the hotel mentioned in this comment from the list of hotels below.\n",
        "\n",
        "  Return just the name of the hotel in question in string format.\n",
        "\n",
        "  If the user query does not mention any hotels, return None.\n",
        "\n",
        "  List of hotels:\n",
        "  {hotels_list_str}\n",
        "\n",
        "  User Query:\n",
        "  {delimiter}\n",
        "  {userQuery}\n",
        "  {delimiter}\n",
        "  '''\n",
        "\n",
        "\n",
        "  messages =  [\n",
        "          {'role':'system',\n",
        "          'content': system_message},\n",
        "          {'role':'user',\n",
        "          'content': f\"{user_message}\"},\n",
        "  ]\n",
        "\n",
        "  topics_class_response = get_model_response(messages,\n",
        "                    model = 'gpt-3.5-turbo',\n",
        "                    temperature = 0,\n",
        "                    max_tokens = 1000)\n",
        "\n",
        "  return topics_class_response"
      ]
    },
    {
      "cell_type": "markdown",
      "metadata": {
        "id": "8luQpbXo6oTm"
      },
      "source": [
        "Answer template of LLM."
      ]
    },
    {
      "cell_type": "code",
      "execution_count": 20,
      "metadata": {
        "id": "focNt9hxrE_-"
      },
      "outputs": [],
      "source": [
        "from langchain.prompts import PromptTemplate\n",
        "\n",
        "template = \"\"\"\n",
        "Use the following pieces of context to answer the question at the end.\n",
        "If the relevant information is not available in the data, consider other interpretations of the prompt due to semantics.\n",
        "If the relevant information is still not available in the data, just say that you don't know, don't try\n",
        "to make up an answer.\n",
        "If the data has mixed opinions, tell us about the mixed opinions.\n",
        "\n",
        "Keep the answer as concise as possible. Use 1 sentence to sum all points up.\n",
        "______________\n",
        "{context}\n",
        "Question: {question}\n",
        "Helpful Answer:\"\"\"\n",
        "\n",
        "QA_CHAIN_PROMPT = PromptTemplate.from_template(template)"
      ]
    },
    {
      "cell_type": "code",
      "execution_count": 21,
      "metadata": {
        "colab": {
          "base_uri": "https://localhost:8080/"
        },
        "id": "EAODmxM3wRZG",
        "outputId": "ab72e9af-71b2-4e8d-8883-ed58d4aa123b"
      },
      "outputs": [
        {
          "name": "stderr",
          "output_type": "stream",
          "text": [
            "/usr/local/lib/python3.10/dist-packages/langchain_core/_api/deprecation.py:117: LangChainDeprecationWarning: The class `langchain_community.chat_models.openai.ChatOpenAI` was deprecated in langchain-community 0.0.10 and will be removed in 0.2.0. An updated version of the class exists in the langchain-openai package and should be used instead. To use it run `pip install -U langchain-openai` and import as `from langchain_openai import ChatOpenAI`.\n",
            "  warn_deprecated(\n"
          ]
        }
      ],
      "source": [
        "from langchain.chains import RetrievalQA\n",
        "\n",
        "from langchain.chat_models import ChatOpenAI\n",
        "llm = ChatOpenAI(model_name='gpt-4', temperature=0.1)"
      ]
    },
    {
      "cell_type": "markdown",
      "metadata": {
        "id": "YOI38wl76sb4"
      },
      "source": [
        "Function to answer a query."
      ]
    },
    {
      "cell_type": "code",
      "execution_count": 22,
      "metadata": {
        "id": "rWd6bifIrGJY"
      },
      "outputs": [],
      "source": [
        "def answerQuery(curQuery, curHotel):\n",
        "\n",
        "  qa_chain = RetrievalQA.from_chain_type(\n",
        "      llm,\n",
        "      retriever = vectordb.as_retriever(),\n",
        "      metadata = {'Hotel_Name': curHotel},\n",
        "      return_source_documents = True,\n",
        "      chain_type_kwargs = {\"prompt\": QA_CHAIN_PROMPT}\n",
        "  )\n",
        "\n",
        "  response = qa_chain({\"query\": curQuery})\n",
        "\n",
        "  return response"
      ]
    },
    {
      "cell_type": "markdown",
      "metadata": {
        "id": "A0QOLRHxno_t"
      },
      "source": [
        "Overall function that takes in any query and processes it before returning the result."
      ]
    },
    {
      "cell_type": "code",
      "execution_count": 23,
      "metadata": {
        "id": "rGub6zt9nran"
      },
      "outputs": [],
      "source": [
        "def getAnswer(userQuery):\n",
        "  queryList = convertJSONToList(editPrompt(userQuery))\n",
        "\n",
        "  finalAnswer = ''\n",
        "  responseList = []\n",
        "\n",
        "  for curQuery in queryList:\n",
        "    curHotel = getHotel(curQuery)\n",
        "\n",
        "    curResponse = answerQuery(curQuery, curHotel)\n",
        "\n",
        "    finalAnswer += curResponse['result'] + \" \"\n",
        "    responseList.append(curResponse)\n",
        "\n",
        "  return [finalAnswer, queryList, responseList]"
      ]
    },
    {
      "cell_type": "markdown",
      "metadata": {
        "id": "N6-DmPGInHOr"
      },
      "source": [
        "Sample response."
      ]
    },
    {
      "cell_type": "code",
      "execution_count": 28,
      "metadata": {
        "colab": {
          "base_uri": "https://localhost:8080/"
        },
        "id": "BXJsgvBpnGHt",
        "outputId": "9cffdb50-5b6b-4a2e-b5cd-da8863496f52"
      },
      "outputs": [
        {
          "data": {
            "text/plain": [
              "['The staff at Hotel Arena are reported to be very helpful and friendly. The toilets in Hotel Arena have received mixed reviews, with some guests complaining about the bathrooms being like a cubicle with transparent glass, causing privacy issues, and others mentioning issues with the shower causing water to flow over to the elevated floor. The staff at The Park Grand London Paddington are considered good, lovely, polite, helpful, and efficient. The toilets in The Park Grand London Paddington have received mixed reviews, with some guests finding them to be of a good standard and spacious, while others complained about unpleasant smells, wet floors, and poor cleanliness. ',\n",
              " ['How are the staff in Hotel Arena',\n",
              "  'How are the toilets in Hotel Arena',\n",
              "  'How are the staff in The Park Grand London Paddington',\n",
              "  'How are the toilets in The Park Grand London Paddington'],\n",
              " [{'query': 'How are the staff in Hotel Arena',\n",
              "   'result': 'The staff at Hotel Arena are reported to be very helpful and friendly.',\n",
              "   'source_documents': [Document(page_content='Hotel Arena, Good:  All very good Staff were very helpful ', metadata={'Additional_Number_of_Scoring': 194, 'Average_Score': 7.7, 'Hotel_Address': ' s Gravesandestraat 55 Oost 1092 AA Amsterdam Netherlands', 'Hotel_Name': 'Hotel Arena', 'Negative_Review': 'No Negative', 'Positive_Review': ' All very good Staff were very helpful ', 'Review_Date': '1/3/2016', 'Review_Total_Negative_Word_Counts': 0, 'Review_Total_Positive_Word_Counts': 9, 'Reviewer_Nationality': ' United Kingdom ', 'Reviewer_Score': 10.0, 'Tags': \"[' Leisure trip ', ' Group ', ' Duplex Double Room ', ' Stayed 3 nights ', ' Submitted from a mobile device ']\", 'Total_Number_of_Reviews': 1403, 'Total_Number_of_Reviews_Reviewer_Has_Given': 1, 'Unnamed: 0': 359, 'days_since_review': '578 day', 'lat': 52.3605759, 'lng': 4.9159683}),\n",
              "    Document(page_content='Hotel Arena, Good:  The staff were so friendly and very helpful ', metadata={'Additional_Number_of_Scoring': 194, 'Average_Score': 7.7, 'Hotel_Address': ' s Gravesandestraat 55 Oost 1092 AA Amsterdam Netherlands', 'Hotel_Name': 'Hotel Arena', 'Negative_Review': 'No Negative', 'Positive_Review': ' The staff were so friendly and very helpful ', 'Review_Date': '8/4/2015', 'Review_Total_Negative_Word_Counts': 0, 'Review_Total_Positive_Word_Counts': 10, 'Reviewer_Nationality': ' United Kingdom ', 'Reviewer_Score': 9.2, 'Tags': \"[' Leisure trip ', ' Couple ', ' Duplex Double Room ', ' Stayed 2 nights ', ' Submitted from a mobile device ']\", 'Total_Number_of_Reviews': 1403, 'Total_Number_of_Reviews_Reviewer_Has_Given': 1, 'Unnamed: 0': 403, 'days_since_review': '730 day', 'lat': 52.3605759, 'lng': 4.9159683}),\n",
              "    Document(page_content='Hotel Arena, Good:  Great and beautiful hotel with wonderful staff ', metadata={'Additional_Number_of_Scoring': 194, 'Average_Score': 7.7, 'Hotel_Address': ' s Gravesandestraat 55 Oost 1092 AA Amsterdam Netherlands', 'Hotel_Name': 'Hotel Arena', 'Negative_Review': 'No Negative', 'Positive_Review': ' Great and beautiful hotel with wonderful staff ', 'Review_Date': '9/15/2015', 'Review_Total_Negative_Word_Counts': 0, 'Review_Total_Positive_Word_Counts': 9, 'Reviewer_Nationality': ' Iceland ', 'Reviewer_Score': 8.8, 'Tags': \"[' Leisure trip ', ' Group ', ' Duplex Double Room ', ' Stayed 3 nights ']\", 'Total_Number_of_Reviews': 1403, 'Total_Number_of_Reviews_Reviewer_Has_Given': 1, 'Unnamed: 0': 387, 'days_since_review': '688 day', 'lat': 52.3605759, 'lng': 4.9159683}),\n",
              "    Document(page_content='Hotel Arena, Good:  location and staff', metadata={'Additional_Number_of_Scoring': 194, 'Average_Score': 7.7, 'Hotel_Address': ' s Gravesandestraat 55 Oost 1092 AA Amsterdam Netherlands', 'Hotel_Name': 'Hotel Arena', 'Negative_Review': 'No Negative', 'Positive_Review': ' location and staff', 'Review_Date': '12/30/2015', 'Review_Total_Negative_Word_Counts': 0, 'Review_Total_Positive_Word_Counts': 4, 'Reviewer_Nationality': ' United States of America ', 'Reviewer_Score': 9.6, 'Tags': \"[' Leisure trip ', ' Couple ', ' Duplex Double Room ', ' Stayed 3 nights ']\", 'Total_Number_of_Reviews': 1403, 'Total_Number_of_Reviews_Reviewer_Has_Given': 3, 'Unnamed: 0': 361, 'days_since_review': '582 day', 'lat': 52.3605759, 'lng': 4.9159683})]},\n",
              "  {'query': 'How are the toilets in Hotel Arena',\n",
              "   'result': 'The toilets in Hotel Arena have received mixed reviews, with some guests complaining about the bathrooms being like a cubicle with transparent glass, causing privacy issues, and others mentioning issues with the shower causing water to flow over to the elevated floor.',\n",
              "   'source_documents': [Document(page_content='Hotel Arena, Good:  Most of the thing we experience is a very good just keep it up\\n\\n Bad:  The bathroom if someone took shower because it will flow over to the elevated floor ', metadata={'Additional_Number_of_Scoring': 194, 'Average_Score': 7.7, 'Hotel_Address': ' s Gravesandestraat 55 Oost 1092 AA Amsterdam Netherlands', 'Hotel_Name': 'Hotel Arena', 'Negative_Review': ' The bathroom if someone took shower because it will flow over to the elevated floor ', 'Positive_Review': ' Most of the thing we experience is a very good just keep it up', 'Review_Date': '1/29/2017', 'Review_Total_Negative_Word_Counts': 17, 'Review_Total_Positive_Word_Counts': 15, 'Reviewer_Nationality': ' Denmark ', 'Reviewer_Score': 7.1, 'Tags': \"[' Leisure trip ', ' Couple ', ' Duplex Double Room ', ' Stayed 2 nights ', ' Submitted from a mobile device ']\", 'Total_Number_of_Reviews': 1403, 'Total_Number_of_Reviews_Reviewer_Has_Given': 2, 'Unnamed: 0': 61, 'days_since_review': '186 day', 'lat': 52.3605759, 'lng': 4.9159683}),\n",
              "    Document(page_content='Hotel Arena, Bad:  Doors to the bathroomn\\nGood:  EVERYTHING ', metadata={'Additional_Number_of_Scoring': 194, 'Average_Score': 7.7, 'Hotel_Address': ' s Gravesandestraat 55 Oost 1092 AA Amsterdam Netherlands', 'Hotel_Name': 'Hotel Arena', 'Negative_Review': ' Doors to the bathroom', 'Positive_Review': ' EVERYTHING ', 'Review_Date': '8/16/2015', 'Review_Total_Negative_Word_Counts': 5, 'Review_Total_Positive_Word_Counts': 3, 'Reviewer_Nationality': ' Norway ', 'Reviewer_Score': 10.0, 'Tags': \"[' Leisure trip ', ' Group ', ' Duplex Double Room ', ' Stayed 4 nights ']\", 'Total_Number_of_Reviews': 1403, 'Total_Number_of_Reviews_Reviewer_Has_Given': 2, 'Unnamed: 0': 401, 'days_since_review': '718 day', 'lat': 52.3605759, 'lng': 4.9159683}),\n",
              "    Document(page_content='Hotel Arena, Good:  The staff we encountered were absolutely delightful and very helpful The rooms were clean stylish and comfortable The hotel was conveniently located within walking distance of the centre of Amsterdam \\n\\n Bad:  The bathrooms are more like a cubical with transparent glass Not ideal if you re a fan of your own privacy Considerable renovation works were ongoing during our stay for the inconvenience we were offered a free drink at the bar I thought this was a nice gesture until I was repeatedly told I can have that drink or that one only a tea coffee or 25cl beer You might have well not bothered Hotel Arena It was more like an insult ', metadata={'Additional_Number_of_Scoring': 194, 'Average_Score': 7.7, 'Hotel_Address': ' s Gravesandestraat 55 Oost 1092 AA Amsterdam Netherlands', 'Hotel_Name': 'Hotel Arena', 'Negative_Review': ' The bathrooms are more like a cubical with transparent glass Not ideal if you re a fan of your own privacy Considerable renovation works were ongoing during our stay for the inconvenience we were offered a free drink at the bar I thought this was a nice gesture until I was repeatedly told I can have that drink or that one only a tea coffee or 25cl beer You might have well not bothered Hotel Arena It was more like an insult ', 'Positive_Review': ' The staff we encountered were absolutely delightful and very helpful The rooms were clean stylish and comfortable The hotel was conveniently located within walking distance of the centre of Amsterdam ', 'Review_Date': '12/26/2015', 'Review_Total_Negative_Word_Counts': 84, 'Review_Total_Positive_Word_Counts': 32, 'Reviewer_Nationality': ' United Kingdom ', 'Reviewer_Score': 9.2, 'Tags': \"[' Leisure trip ', ' Couple ', ' Duplex Double Room ', ' Stayed 4 nights ']\", 'Total_Number_of_Reviews': 1403, 'Total_Number_of_Reviews_Reviewer_Has_Given': 1, 'Unnamed: 0': 188, 'days_since_review': '586 day', 'lat': 52.3605759, 'lng': 4.9159683}),\n",
              "    Document(page_content='Hotel Arena, Good:  The bed was huge and comfortable Massively high ceilings and the feature staircase \\n\\n Bad:  The noise of the construction works that began at 7am sharp in the mornings The see through toilet bathroom the shabby sinks and sandpaper like tissue paper ', metadata={'Additional_Number_of_Scoring': 194, 'Average_Score': 7.7, 'Hotel_Address': ' s Gravesandestraat 55 Oost 1092 AA Amsterdam Netherlands', 'Hotel_Name': 'Hotel Arena', 'Negative_Review': ' The noise of the construction works that began at 7am sharp in the mornings The see through toilet bathroom the shabby sinks and sandpaper like tissue paper ', 'Positive_Review': ' The bed was huge and comfortable Massively high ceilings and the feature staircase ', 'Review_Date': '4/7/2016', 'Review_Total_Negative_Word_Counts': 29, 'Review_Total_Positive_Word_Counts': 15, 'Reviewer_Nationality': ' United Kingdom ', 'Reviewer_Score': 5.4, 'Tags': \"[' Leisure trip ', ' Couple ', ' Duplex Double Room ', ' Stayed 3 nights ', ' Submitted from a mobile device ']\", 'Total_Number_of_Reviews': 1403, 'Total_Number_of_Reviews_Reviewer_Has_Given': 5, 'Unnamed: 0': 147, 'days_since_review': '483 day', 'lat': 52.3605759, 'lng': 4.9159683})]},\n",
              "  {'query': 'How are the staff in The Park Grand London Paddington',\n",
              "   'result': 'The staff at The Park Grand London Paddington are considered good, lovely, polite, helpful, and efficient.',\n",
              "   'source_documents': [Document(page_content='The Park Grand London Paddington, Good:  The staff', metadata={'Additional_Number_of_Scoring': 1058, 'Average_Score': 7.7, 'Hotel_Address': '1 3 Queens Garden Westminster Borough London W2 3BA United Kingdom', 'Hotel_Name': 'The Park Grand London Paddington', 'Negative_Review': 'No Negative', 'Positive_Review': ' The staff', 'Review_Date': '9/19/2015', 'Review_Total_Negative_Word_Counts': 0, 'Review_Total_Positive_Word_Counts': 3, 'Reviewer_Nationality': ' United Arab Emirates ', 'Reviewer_Score': 7.1, 'Tags': \"[' Business trip ', ' Solo traveler ', ' Deluxe Double Room ', ' Stayed 4 nights ', ' Submitted from a mobile device ']\", 'Total_Number_of_Reviews': 4380, 'Total_Number_of_Reviews_Reviewer_Has_Given': 59, 'Unnamed: 0': 3724, 'days_since_review': '684 day', 'lat': 51.5142184, 'lng': -0.1809032}),\n",
              "    Document(page_content='The Park Grand London Paddington, Good:  The staff', metadata={'Additional_Number_of_Scoring': 1058, 'Average_Score': 7.7, 'Hotel_Address': '1 3 Queens Garden Westminster Borough London W2 3BA United Kingdom', 'Hotel_Name': 'The Park Grand London Paddington', 'Negative_Review': 'No Negative', 'Positive_Review': ' The staff', 'Review_Date': '3/11/2017', 'Review_Total_Negative_Word_Counts': 0, 'Review_Total_Positive_Word_Counts': 3, 'Reviewer_Nationality': ' Malaysia ', 'Reviewer_Score': 7.1, 'Tags': \"[' Leisure trip ', ' Solo traveler ', ' Compact Double Room ', ' Stayed 2 nights ', ' Submitted from a mobile device ']\", 'Total_Number_of_Reviews': 4380, 'Total_Number_of_Reviews_Reviewer_Has_Given': 2, 'Unnamed: 0': 2935, 'days_since_review': '145 day', 'lat': 51.5142184, 'lng': -0.1809032}),\n",
              "    Document(page_content='The Park Grand London Paddington, Good:  Staff were lovely very polite helpful and efficient ', metadata={'Additional_Number_of_Scoring': 1058, 'Average_Score': 7.7, 'Hotel_Address': '1 3 Queens Garden Westminster Borough London W2 3BA United Kingdom', 'Hotel_Name': 'The Park Grand London Paddington', 'Negative_Review': 'No Negative', 'Positive_Review': ' Staff were lovely very polite helpful and efficient ', 'Review_Date': '12/27/2016', 'Review_Total_Negative_Word_Counts': 0, 'Review_Total_Positive_Word_Counts': 10, 'Reviewer_Nationality': ' United Kingdom ', 'Reviewer_Score': 8.8, 'Tags': \"[' Leisure trip ', ' Family with young children ', ' Triple Room ', ' Stayed 1 night ', ' Submitted from a mobile device ']\", 'Total_Number_of_Reviews': 4380, 'Total_Number_of_Reviews_Reviewer_Has_Given': 2, 'Unnamed: 0': 3022, 'days_since_review': '219 day', 'lat': 51.5142184, 'lng': -0.1809032}),\n",
              "    Document(page_content='The Park Grand London Paddington, Good:  The Staff were excllent', metadata={'Additional_Number_of_Scoring': 1058, 'Average_Score': 7.7, 'Hotel_Address': '1 3 Queens Garden Westminster Borough London W2 3BA United Kingdom', 'Hotel_Name': 'The Park Grand London Paddington', 'Negative_Review': 'No Negative', 'Positive_Review': ' The Staff were excllent', 'Review_Date': '8/9/2015', 'Review_Total_Negative_Word_Counts': 0, 'Review_Total_Positive_Word_Counts': 5, 'Reviewer_Nationality': ' United Kingdom ', 'Reviewer_Score': 10.0, 'Tags': \"[' Business trip ', ' Couple ', ' Deluxe Twin Room ', ' Stayed 3 nights ']\", 'Total_Number_of_Reviews': 4380, 'Total_Number_of_Reviews_Reviewer_Has_Given': 3, 'Unnamed: 0': 3773, 'days_since_review': '725 day', 'lat': 51.5142184, 'lng': -0.1809032})]},\n",
              "  {'query': 'How are the toilets in The Park Grand London Paddington',\n",
              "   'result': 'The toilets in The Park Grand London Paddington have received mixed reviews, with some guests finding them to be of a good standard and spacious, while others complained about unpleasant smells, wet floors, and poor cleanliness.',\n",
              "   'source_documents': [Document(page_content='The Park Grand London Paddington, Bad:  The toilet and shower facilities are to the standard of a 4 star hoteln\\nGood:  Attitude of the staff and quality of foof', metadata={'Additional_Number_of_Scoring': 1058, 'Average_Score': 7.7, 'Hotel_Address': '1 3 Queens Garden Westminster Borough London W2 3BA United Kingdom', 'Hotel_Name': 'The Park Grand London Paddington', 'Negative_Review': ' The toilet and shower facilities are to the standard of a 4 star hotel', 'Positive_Review': ' Attitude of the staff and quality of foof', 'Review_Date': '10/1/2015', 'Review_Total_Negative_Word_Counts': 15, 'Review_Total_Positive_Word_Counts': 9, 'Reviewer_Nationality': ' United Arab Emirates ', 'Reviewer_Score': 7.9, 'Tags': \"[' Family with older children ', ' Compact Double Room ', ' Stayed 16 nights ', ' Submitted from a mobile device ']\", 'Total_Number_of_Reviews': 4380, 'Total_Number_of_Reviews_Reviewer_Has_Given': 4, 'Unnamed: 0': 3710, 'days_since_review': '672 day', 'lat': 51.5142184, 'lng': -0.1809032}),\n",
              "    Document(page_content='The Park Grand London Paddington, Good:  The club room is comfortable for 2 Clean and bright The room seems to be newly furbished The toilet is spacious too \\n\\n Bad:  The design of the toilet bath area will get the whole floor to be wet Would be better if there is a segregation The tap of the basin seems to be old and it was very tight ', metadata={'Additional_Number_of_Scoring': 1058, 'Average_Score': 7.7, 'Hotel_Address': '1 3 Queens Garden Westminster Borough London W2 3BA United Kingdom', 'Hotel_Name': 'The Park Grand London Paddington', 'Negative_Review': ' The design of the toilet bath area will get the whole floor to be wet Would be better if there is a segregation The tap of the basin seems to be old and it was very tight ', 'Positive_Review': ' The club room is comfortable for 2 Clean and bright The room seems to be newly furbished The toilet is spacious too ', 'Review_Date': '6/20/2017', 'Review_Total_Negative_Word_Counts': 39, 'Review_Total_Positive_Word_Counts': 24, 'Reviewer_Nationality': ' Singapore ', 'Reviewer_Score': 9.2, 'Tags': \"[' Leisure trip ', ' Couple ', ' Club Double Room ', ' Stayed 1 night ']\", 'Total_Number_of_Reviews': 4380, 'Total_Number_of_Reviews_Reviewer_Has_Given': 9, 'Unnamed: 0': 2044, 'days_since_review': '44 days', 'lat': 51.5142184, 'lng': -0.1809032}),\n",
              "    Document(page_content='The Park Grand London Paddington, Bad:  An unpleasant smell in bathrooms due to style of plumbing and in some rooms wet room means that bathroom floor can be rather wet n\\nGood:  Position next to Paddington Station Breakfast is excellent Evening meals are available ', metadata={'Additional_Number_of_Scoring': 1058, 'Average_Score': 7.7, 'Hotel_Address': '1 3 Queens Garden Westminster Borough London W2 3BA United Kingdom', 'Hotel_Name': 'The Park Grand London Paddington', 'Negative_Review': ' An unpleasant smell in bathrooms due to style of plumbing and in some rooms wet room means that bathroom floor can be rather wet ', 'Positive_Review': ' Position next to Paddington Station Breakfast is excellent Evening meals are available ', 'Review_Date': '10/16/2015', 'Review_Total_Negative_Word_Counts': 26, 'Review_Total_Positive_Word_Counts': 14, 'Reviewer_Nationality': ' New Zealand ', 'Reviewer_Score': 7.1, 'Tags': \"[' Leisure trip ', ' Solo traveler ', ' Deluxe Double Room ', ' Stayed 2 nights ']\", 'Total_Number_of_Reviews': 4380, 'Total_Number_of_Reviews_Reviewer_Has_Given': 2, 'Unnamed: 0': 2729, 'days_since_review': '657 day', 'lat': 51.5142184, 'lng': -0.1809032}),\n",
              "    Document(page_content='The Park Grand London Paddington, Bad:  The loo hadn t been cleaned and had been well used n\\nGood:  A compact but well furnished room with a very comfortable bed good lights and an excellent shower ', metadata={'Additional_Number_of_Scoring': 1058, 'Average_Score': 7.7, 'Hotel_Address': '1 3 Queens Garden Westminster Borough London W2 3BA United Kingdom', 'Hotel_Name': 'The Park Grand London Paddington', 'Negative_Review': ' The loo hadn t been cleaned and had been well used ', 'Positive_Review': ' A compact but well furnished room with a very comfortable bed good lights and an excellent shower ', 'Review_Date': '6/21/2017', 'Review_Total_Negative_Word_Counts': 13, 'Review_Total_Positive_Word_Counts': 19, 'Reviewer_Nationality': ' United Kingdom ', 'Reviewer_Score': 9.6, 'Tags': \"[' Business trip ', ' Solo traveler ', ' Compact Double Room ', ' Stayed 1 night ', ' Submitted from a mobile device ']\", 'Total_Number_of_Reviews': 4380, 'Total_Number_of_Reviews_Reviewer_Has_Given': 1, 'Unnamed: 0': 2042, 'days_since_review': '43 days', 'lat': 51.5142184, 'lng': -0.1809032})]}]]"
            ]
          },
          "execution_count": 28,
          "metadata": {},
          "output_type": "execute_result"
        }
      ],
      "source": [
        "sampleResponse = getAnswer('How are the staff, and are the toilets good in Hotel Arena and The Park Grand London Paddington')\n",
        "sampleResponse"
      ]
    }
  ],
  "metadata": {
    "colab": {
      "provenance": []
    },
    "kernelspec": {
      "display_name": "Python 3",
      "name": "python3"
    },
    "language_info": {
      "name": "python"
    }
  },
  "nbformat": 4,
  "nbformat_minor": 0
}
